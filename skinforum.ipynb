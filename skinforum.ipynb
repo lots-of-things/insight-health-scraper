{
 "cells": [
  {
   "cell_type": "code",
   "execution_count": 107,
   "metadata": {
    "collapsed": false
   },
   "outputs": [],
   "source": [
    "import urllib2, time, random, re\n",
    "from bs4 import BeautifulSoup\n",
    "import pandas as pd"
   ]
  },
  {
   "cell_type": "code",
   "execution_count": 96,
   "metadata": {
    "collapsed": false
   },
   "outputs": [],
   "source": [
    "hdr = {'User-Agent': 'Mozilla/5.0 (X11; Linux x86_64) AppleWebKit/537.11 (KHTML, like Gecko) Chrome/23.0.1271.64 Safari/537.11',\n",
    "           'Accept': 'text/html,application/xhtml+xml,application/xml;q=0.9,*/*;q=0.8',\n",
    "           'Accept-Charset': 'ISO-8859-1,utf-8;q=0.7,*;q=0.3',\n",
    "           'Accept-Encoding': 'none',\n",
    "           'Accept-Language': 'en-US,en;q=0.8','Connection': 'keep-alive'}\n",
    "\n",
    "soup = BeautifulSoup(urllib2.urlopen(urllib2.Request(\"http://ehealthforum.com/health/doctor_questions_259.html\", headers=hdr)).read())\n",
    "url_list = []\n",
    "for post in soup.find_all(\"div\", class_=\"dq_topic_content_title\"):\n",
    "    if(\"Answered by\" in post.find(\"span\",class_=\"dq_topic_author\").text):\n",
    "        url_list.append(post.find(\"a\")['href'])"
   ]
  },
  {
   "cell_type": "code",
   "execution_count": 97,
   "metadata": {
    "collapsed": false
   },
   "outputs": [],
   "source": []
  },
  {
   "cell_type": "markdown",
   "metadata": {},
   "source": [
    "The workflow will be to grab each forum post that has a "
   ]
  },
  {
   "cell_type": "code",
   "execution_count": null,
   "metadata": {
    "collapsed": false
   },
   "outputs": [],
   "source": [
    "df = pd.DataFrame()\n",
    "for url in url_list:\n",
    "    try:\n",
    "        soup = BeautifulSoup(urllib2.urlopen(urllib2.Request(url, headers=hdr)).read())\n",
    "        for reply in soup.find_all(\"div\", class_=\"vt_post_holder\"):\n",
    "            store = {\"post\":url}\n",
    "            if(reply.find(\"div\", class_=\"vt_first_message_body\")):\n",
    "                store[\"response_type\"]=\"asker\"\n",
    "                store[\"response_time\"]=reply.find(\"span\",class_=\"vt_first_timestamp\").text\n",
    "                store[\"response\"]=re.sub('\\s+',' ',reply.find(\"div\",class_=\"vt_post_body\").text)\n",
    "                store[\"user_name\"]=reply.find(\"span\",class_=\"vt_asked_by_user\").text\n",
    "                store[\"user_profile\"]=reply.find(\"span\",class_=\"vt_asked_by_user\").find(\"a\")[\"href\"]\n",
    "            if(reply.find(\"span\",class_=\"postfix-md\")):\n",
    "                store[\"response_type\"]=\"doctor\"\n",
    "                store[\"response_time\"]=reply.find(\"div\",class_=\"vt_reply_timestamp\").text\n",
    "                store[\"response\"]=re.sub('\\s+',' ',reply.find(\"div\",class_=\"vt_post_body\").text)\n",
    "                store[\"user_name\"]=reply.find(\"div\",class_=\"vt_asked_by_user\").text\n",
    "                store[\"user_profile\"]=reply.find(\"div\",class_=\"vt_asked_by_user\").find(\"a\")[\"href\"]\n",
    "            df=df.append(store,ignore_index=True)\n",
    "        time.sleep(random.randint(15,45))\n",
    "    except urllib2.HTTPError, e:\n",
    "        pass\n",
    "df.to_csv(\"skin_data_1.csv\")"
   ]
  },
  {
   "cell_type": "code",
   "execution_count": 109,
   "metadata": {
    "collapsed": false
   },
   "outputs": [
    {
     "data": {
      "text/plain": [
       "u' Thank you for asking at Ehealth forum! I read your question and i understand your concern. Its likely a pinched nerve , common after sleep due to prolonged sleeping postures in one position, Just take some tylenol , exercise for some time, and it will be back to normal. I hope it helps. Stay in touch with your healthcare provider for further guidance as our answers are just for education and counselling purposes and cannot be an alternative to actual visit to a doctor. Take care Khan '"
      ]
     },
     "execution_count": 109,
     "metadata": {},
     "output_type": "execute_result"
    }
   ],
   "source": []
  },
  {
   "cell_type": "code",
   "execution_count": null,
   "metadata": {
    "collapsed": true
   },
   "outputs": [],
   "source": []
  }
 ],
 "metadata": {
  "kernelspec": {
   "display_name": "Python 2",
   "language": "python",
   "name": "python2"
  },
  "language_info": {
   "codemirror_mode": {
    "name": "ipython",
    "version": 2
   },
   "file_extension": ".py",
   "mimetype": "text/x-python",
   "name": "python",
   "nbconvert_exporter": "python",
   "pygments_lexer": "ipython2",
   "version": "2.7.12"
  }
 },
 "nbformat": 4,
 "nbformat_minor": 0
}
