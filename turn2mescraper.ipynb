{
 "cells": [
  {
   "cell_type": "code",
   "execution_count": 10,
   "metadata": {
    "collapsed": false
   },
   "outputs": [],
   "source": [
    "import urllib2, time\n",
    "from bs4 import BeautifulSoup"
   ]
  },
  {
   "cell_type": "code",
   "execution_count": 62,
   "metadata": {
    "collapsed": false
   },
   "outputs": [],
   "source": [
    "hdr = {'User-Agent': 'Mozilla/5.0 (X11; Linux x86_64) AppleWebKit/537.11 (KHTML, like Gecko) Chrome/23.0.1271.64 Safari/537.11',\n",
    "           'Accept': 'text/html,application/xhtml+xml,application/xml;q=0.9,*/*;q=0.8',\n",
    "           'Accept-Charset': 'ISO-8859-1,utf-8;q=0.7,*;q=0.3',\n",
    "           'Accept-Encoding': 'none',\n",
    "           'Accept-Language': 'en-US,en;q=0.8','Connection': 'keep-alive'}\n",
    "req = urllib2.Request(\"http://ehealthforum.com/health/doctor_questions_259.html\", headers=hdr)\n",
    "#url = urllib2.urlopen(\"http://www.webmd.com/diet/belly-fat-diet\", headers=hdr)\n",
    "url = urllib2.urlopen(req)\n",
    "content = url.read()\n",
    "\n",
    "soup = BeautifulSoup(content)"
   ]
  },
  {
   "cell_type": "code",
   "execution_count": null,
   "metadata": {
    "collapsed": true
   },
   "outputs": [],
   "source": [
    "for post in soup.find_all(\"div\", class_=\"dq_topic_content_title\"):\n",
    "    if(post.find(\"div\", class_=\"includes_expert_fmt\")):"
   ]
  },
  {
   "cell_type": "code",
   "execution_count": 43,
   "metadata": {
    "collapsed": false
   },
   "outputs": [
    {
     "name": "stdout",
     "output_type": "stream",
     "text": [
      "http://forums.webmd.com/3/skin-problems-and-treatments-exchange/forum/5513\n",
      "http://forums.webmd.com/3/skin-problems-and-treatments-exchange/forum/3951\n",
      "http://forums.webmd.com/3/skin-problems-and-treatments-exchange/forum/3736\n",
      "http://forums.webmd.com/3/skin-problems-and-treatments-exchange/forum/3531\n",
      "http://forums.webmd.com/3/skin-problems-and-treatments-exchange/forum/2586\n",
      "http://forums.webmd.com/3/skin-problems-and-treatments-exchange/forum/2157\n",
      "http://forums.webmd.com/3/skin-problems-and-treatments-exchange/forum/2096\n",
      "http://forums.webmd.com/3/skin-problems-and-treatments-exchange/forum/2037\n",
      "http://forums.webmd.com/3/skin-problems-and-treatments-exchange/forum/1912\n",
      "http://forums.webmd.com/3/skin-problems-and-treatments-exchange/forum/1304\n",
      "http://forums.webmd.com/3/skin-problems-and-treatments-exchange/forum/689\n",
      "http://forums.webmd.com/3/skin-problems-and-treatments-exchange/forum/31\n",
      "http://forums.webmd.com/3/skin-problems-and-treatments-exchange/forum/424\n",
      "http://forums.webmd.com/3/skin-problems-and-treatments-exchange/forum/685\n",
      "http://forums.webmd.com/3/skin-problems-and-treatments-exchange/forum/678\n",
      "http://forums.webmd.com/3/skin-problems-and-treatments-exchange/forum/677\n",
      "http://forums.webmd.com/3/skin-problems-and-treatments-exchange/forum/683\n"
     ]
    }
   ],
   "source": []
  },
  {
   "cell_type": "code",
   "execution_count": null,
   "metadata": {
    "collapsed": true
   },
   "outputs": [],
   "source": []
  },
  {
   "cell_type": "code",
   "execution_count": 60,
   "metadata": {
    "collapsed": false
   },
   "outputs": [],
   "source": [
    "for post in soup.find_all(\"div\", class_=\"discussionx_fmt\"):\n",
    "    if(post.find(\"div\", class_=\"dq_topic_author\").text==):\n",
    "        print(post.find(\"a\",class_=\"view_thread\")['href'])\n",
    "req2 = urllib2.Request(\"http://forums.webmd.com/3/skin-problems-and-treatments-exchange/forum/3812/21\", headers=hdr)\n",
    "url2 = urllib2.urlopen(req2)\n",
    "content2 = url2.read()\n",
    "\n",
    "soup2 = BeautifulSoup(content2)"
   ]
  },
  {
   "cell_type": "code",
   "execution_count": 61,
   "metadata": {
    "collapsed": false
   },
   "outputs": [],
   "source": [
    "soup2.find(\"span\", class_=\"expert_badge_fmt\")"
   ]
  },
  {
   "cell_type": "code",
   "execution_count": null,
   "metadata": {
    "collapsed": true
   },
   "outputs": [],
   "source": []
  }
 ],
 "metadata": {
  "kernelspec": {
   "display_name": "Python 2",
   "language": "python",
   "name": "python2"
  },
  "language_info": {
   "codemirror_mode": {
    "name": "ipython",
    "version": 2
   },
   "file_extension": ".py",
   "mimetype": "text/x-python",
   "name": "python",
   "nbconvert_exporter": "python",
   "pygments_lexer": "ipython2",
   "version": "2.7.12"
  }
 },
 "nbformat": 4,
 "nbformat_minor": 0
}
